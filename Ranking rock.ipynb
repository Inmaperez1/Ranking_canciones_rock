{
 "cells": [
  {
   "cell_type": "markdown",
   "id": "8e0cb602",
   "metadata": {},
   "source": [
    "# Ranking canciones Rock"
   ]
  },
  {
   "cell_type": "markdown",
   "id": "78cdce88",
   "metadata": {},
   "source": [
    "El punto de partida es una tabla que contiene las canciones más populares del género Rock, dando los datos del artista, el año de lanzamiento, la popularidad, bailabilidad, energía, la presencia de público en la grabación, el tempo y el compás.\n",
    "Comenzaremos importando una serie de módulos:"
   ]
  },
  {
   "cell_type": "code",
   "execution_count": 1,
   "id": "c6017be2",
   "metadata": {},
   "outputs": [],
   "source": [
    "import csv\n",
    "import math\n",
    "from matplotlib import pyplot as plt\n",
    "from collections import namedtuple"
   ]
  },
  {
   "cell_type": "markdown",
   "id": "2ea53af1",
   "metadata": {},
   "source": [
    "### FUNCIÓN DE LECTURA DEL ARCHIVO CSV"
   ]
  },
  {
   "cell_type": "code",
   "execution_count": 2,
   "id": "45159745",
   "metadata": {},
   "outputs": [],
   "source": [
    "Registro = namedtuple('Registro','name artist release_date popularity danceability energy liveness tempo time_signature')\n",
    "def lee_rock(fichero):\n",
    "    '''\n",
    "    Lee el archivo csv y devuelve una lista de tuplas.\n",
    "    Todos los datos de entrada son de tipo str.\n",
    "    Convierte los datos relativos a la población en enteros (int).\n",
    "    \n",
    "    '''\n",
    "    with open (\"HR21.csv\", encoding= 'utf-8') as f:\n",
    "        lector = csv.reader(f, delimiter=';')\n",
    "        for linea in f: \n",
    "            rock = [Registro(name, artist, int(release_date), float(popularity), float(danceability), float(energy), float(liveness), float(tempo), str(time_signature)) for name, artist, release_date, popularity, danceability, energy, liveness, tempo, time_signature in lector]\n",
    "        return rock"
   ]
  },
  {
   "cell_type": "code",
   "execution_count": 3,
   "id": "8c8f135f",
   "metadata": {},
   "outputs": [
    {
     "name": "stdout",
     "output_type": "stream",
     "text": [
      "[Registro(name='Stairway to Heaven', artist='Led Zeppelin', release_date=1971, popularity=78.0, danceability=0.338, energy=0.34, liveness=0.116, tempo=82.433, time_signature='4'), Registro(name='Bohemian Rhapsody', artist='Queen', release_date=1975, popularity=74.0, danceability=0.392, energy=0.402, liveness=0.243, tempo=143.883, time_signature='4'), Registro(name='Imagine', artist='John Lennon', release_date=1971, popularity=77.0, danceability=0.547, energy=0.257, liveness=0.0935, tempo=75.752, time_signature='4'), Registro(name=\"(I Can't Get No) Satisfaction - Mono Version\", artist='The Rolling Stones', release_date=1965, popularity=77.0, danceability=0.723, energy=0.863, liveness=0.128, tempo=136.302, time_signature='4'), Registro(name='Hotel California', artist='Eagles', release_date=1976, popularity=83.0, danceability=0.579, energy=0.508, liveness=0.0575, tempo=147.125, time_signature='4')]\n"
     ]
    }
   ],
   "source": [
    "#prueba de la función de lectura\n",
    "ranking_canciones_rock = lee_rock(\"HR21.csv\")\n",
    "print(ranking_canciones_rock [:5])"
   ]
  },
  {
   "cell_type": "markdown",
   "id": "4c44ccf8",
   "metadata": {},
   "source": [
    "Nos devuelve una lista de tuplas con el ranking de canciones de rock que queríamos."
   ]
  },
  {
   "cell_type": "markdown",
   "id": "ad268999",
   "metadata": {},
   "source": [
    "### FUNCIÓN DE TRANSFORMACIÓN"
   ]
  },
  {
   "cell_type": "markdown",
   "id": "30b7403d",
   "metadata": {},
   "source": [
    "Para saber cuántos cantantes hay y quiénes son aplicaremos una función de transformación.\n",
    "\n",
    "La idea es tomar los elementos en la columna \"Artist\" en una lista y transformar esta a un conjunto, de forma que no se repitan los valores."
   ]
  },
  {
   "cell_type": "code",
   "execution_count": 4,
   "id": "7a52e8c8",
   "metadata": {},
   "outputs": [],
   "source": [
    "def calcula_artistas(canciones):\n",
    "    '''\n",
    "    Toma la lista de tuplas poblacion_mundial y extrae el elemento que corresponda al continente.\n",
    "    '''\n",
    "    lista_artistas = []\n",
    "    for tupla in ranking_canciones_rock:\n",
    "        artistas = tupla[1] #el nombre de cada artista ocupa el segundo lugar.\n",
    "        lista_artistas.append(artistas)\n",
    "    lista_artistas = set(lista_artistas)\n",
    "    return lista_artistas"
   ]
  },
  {
   "cell_type": "code",
   "execution_count": 5,
   "id": "a525385d",
   "metadata": {},
   "outputs": [
    {
     "name": "stdout",
     "output_type": "stream",
     "text": [
      "El número de artistas en el ranking es 1361 .\n"
     ]
    }
   ],
   "source": [
    "#prueba de la función\n",
    "artistas = calcula_artistas(ranking_canciones_rock)\n",
    "print(\"El número de artistas en el ranking es\", len(artistas), '.')"
   ]
  },
  {
   "cell_type": "code",
   "execution_count": 6,
   "id": "c877ac05",
   "metadata": {},
   "outputs": [],
   "source": [
    "def calcula_compas(compas):\n",
    "    '''\n",
    "    Toma la lista de tuplas Ranking_canciones_rock y extrae el elemento que corresponda al compás.\n",
    "    '''\n",
    "    lista_compas = []\n",
    "    for tupla in ranking_canciones_rock:\n",
    "        compas = tupla[8] \n",
    "        lista_compas.append(compas)\n",
    "    lista_compas = set(lista_compas)\n",
    "    return lista_compas"
   ]
  },
  {
   "cell_type": "code",
   "execution_count": 7,
   "id": "703fac0b",
   "metadata": {},
   "outputs": [
    {
     "name": "stdout",
     "output_type": "stream",
     "text": [
      "{'4', '5', '3', '1'}\n",
      "El número de tipos de compases en el ranking es 4\n"
     ]
    }
   ],
   "source": [
    "#prueba de la función\n",
    "compas  = calcula_compas(ranking_canciones_rock)\n",
    "print(compas)\n",
    "print(\"El número de tipos de compases en el ranking es\", len(compas))"
   ]
  },
  {
   "cell_type": "markdown",
   "id": "40832518",
   "metadata": {},
   "source": [
    "### FUNCIÓN DE FILTRADO"
   ]
  },
  {
   "cell_type": "markdown",
   "id": "603358a2",
   "metadata": {},
   "source": [
    "Gracias a la función de filtrado podemos ver las canciones que cumplen algún requisito, como tener un compás determinado o ser de algún grupo en concreto. "
   ]
  },
  {
   "cell_type": "markdown",
   "id": "07a28511",
   "metadata": {},
   "source": [
    "Primero creamos una función mostrar numerado que nos permitirá crear una colección con el filtrado que hagamos."
   ]
  },
  {
   "cell_type": "code",
   "execution_count": 8,
   "id": "1e6041bb",
   "metadata": {},
   "outputs": [],
   "source": [
    "def mostrar_numerado(coleccion):\n",
    "    i=0\n",
    "    for p in coleccion:\n",
    "        i=i+1\n",
    "        print (i, p) "
   ]
  },
  {
   "cell_type": "code",
   "execution_count": 9,
   "id": "df25db61",
   "metadata": {},
   "outputs": [],
   "source": [
    "def filtra_por_artistas(rock, artist):\n",
    "    \n",
    "    filtradas = [(n,a,r,p,d,e,l,t,t) for n,a,r,p,d,e,l,t,t in rock if a==\"Led Zeppelin\"]\n",
    "    return filtradas"
   ]
  },
  {
   "cell_type": "code",
   "execution_count": 10,
   "id": "e2fa15de",
   "metadata": {},
   "outputs": [
    {
     "name": "stdout",
     "output_type": "stream",
     "text": [
      "Canciones del artista\n",
      "Encontradas  43 canciones de Led Zeppelin\n",
      "1 ('Stairway to Heaven', 'Led Zeppelin', 1971, 78.0, 0.338, 0.34, 0.116, '4', '4')\n",
      "2 ('Whole Lotta Love', 'Led Zeppelin', 1969, 77.0, 0.412, 0.902, 0.405, '4', '4')\n",
      "3 ('Kashmir', 'Led Zeppelin', 1975, 69.0, 0.48, 0.536, 0.155, '3', '3')\n",
      "4 ('Rock and Roll', 'Led Zeppelin', 1971, 67.0, 0.317, 0.887, 0.0891, '4', '4')\n",
      "5 ('Black Dog', 'Led Zeppelin', 1971, 72.0, 0.437, 0.864, 0.242, '4', '4')\n"
     ]
    }
   ],
   "source": [
    "canciones_artista = filtra_por_artistas(ranking_canciones_rock, 'a')\n",
    "print(\"Canciones del artista\")\n",
    "print(\"Encontradas \" , len(canciones_artista), \"canciones de Led Zeppelin\")\n",
    "mostrar_numerado(canciones_artista[:5])"
   ]
  },
  {
   "cell_type": "code",
   "execution_count": null,
   "id": "158315a4",
   "metadata": {},
   "outputs": [],
   "source": []
  },
  {
   "cell_type": "code",
   "execution_count": 11,
   "id": "42efe3ce",
   "metadata": {},
   "outputs": [],
   "source": [
    "def filtra_por_compas(rock, time_signature):\n",
    "    filtrados = [(n,a,r,p,d,e,l,t,t) for n,a,r,p,d,e,l,t,s in rock if s in time_signature]\n",
    "    return filtrados"
   ]
  },
  {
   "cell_type": "code",
   "execution_count": 12,
   "id": "efe0a355",
   "metadata": {},
   "outputs": [
    {
     "name": "stdout",
     "output_type": "stream",
     "text": [
      "Las canciones cuyo compas es 5 son:\n",
      "1 ('Fight For Your Right', 'Beastie Boys', 1986, 69.0, 0.503, 0.858, 0.0803, 133.615, 133.615)\n",
      "2 ('Drive', 'The Cars', 1984, 69.0, 0.582, 0.606, 0.151, 111.441, 111.441)\n",
      "3 ('Downfall', 'TRUSTcompany', 2002, 59.0, 0.31, 0.94, 0.205, 128.682, 128.682)\n",
      "4 ('The Good Left Undone', 'Rise Against', 2006, 49.0, 0.179, 0.98, 0.121, 196.983, 196.983)\n",
      "5 ('The Trees', 'Rush', 1978, 48.0, 0.445, 0.721, 0.186, 135.742, 135.742)\n",
      "6 ('All Good Naysayers, Speak Up! Or Forever Hold Your Peace!', 'Sufjan Stevens', 2003, 35.0, 0.545, 0.7, 0.112, 90.472, 90.472)\n",
      "7 (\"That Don't Impress Me Much\", 'Shania Twain', 1997, 0.0, 0.745, 0.869, 0.139, 125.005, 125.005)\n",
      "8 ('This Could Be Anywhere In The World', 'Alexisonfire', 2006, 54.0, 0.192, 0.757, 0.123, 83.105, 83.105)\n",
      "9 ('Morning Bell', 'Radiohead', 2000, 51.0, 0.645, 0.462, 0.34, 142.137, 142.137)\n",
      "10 ('Faithfully', 'Journey', 1983, 68.0, 0.202, 0.644, 0.109, 85.04, 85.04)\n",
      "11 ('Cattle and Cane - Live', 'The Go-Betweens', 1999, 1.0, 0.596, 0.497, 0.275, 126.659, 126.659)\n",
      "12 ('Paris, Texas', 'Ry Cooder', 1995, 55.0, 0.359, 0.00681, 0.0581, 128.713, 128.713)\n",
      "13 (\"The Piano Has Been Drinking - Live: Ivanhoe Theater, Chicago IL 21 Nov '76\", 'Tom Waits', 1976, 7.0, 0.376, 0.366, 0.732, 115.864, 115.864)\n"
     ]
    }
   ],
   "source": [
    "#prueba de la función\n",
    "filtrado_por_compas = filtra_por_compas(ranking_canciones_rock, \"5\")\n",
    "print(\"Las canciones cuyo compas es 5 son:\")\n",
    "mostrar_numerado(filtrado_por_compas)\n"
   ]
  },
  {
   "cell_type": "markdown",
   "id": "ab9cf3ed",
   "metadata": {},
   "source": [
    "Ahora probamos a ordenar estas canciones por el año de publicación. "
   ]
  },
  {
   "cell_type": "code",
   "execution_count": 13,
   "id": "a0414a34",
   "metadata": {},
   "outputs": [
    {
     "data": {
      "text/plain": [
       "[('The Trees', 'Rush', 1978, 48.0, 0.445, 0.721, 0.186, 135.742, 135.742),\n",
       " ('Drive', 'The Cars', 1984, 69.0, 0.582, 0.606, 0.151, 111.441, 111.441),\n",
       " ('Fight For Your Right',\n",
       "  'Beastie Boys',\n",
       "  1986,\n",
       "  69.0,\n",
       "  0.503,\n",
       "  0.858,\n",
       "  0.0803,\n",
       "  133.615,\n",
       "  133.615),\n",
       " ('Downfall', 'TRUSTcompany', 2002, 59.0, 0.31, 0.94, 0.205, 128.682, 128.682),\n",
       " ('The Good Left Undone',\n",
       "  'Rise Against',\n",
       "  2006,\n",
       "  49.0,\n",
       "  0.179,\n",
       "  0.98,\n",
       "  0.121,\n",
       "  196.983,\n",
       "  196.983)]"
      ]
     },
     "execution_count": 13,
     "metadata": {},
     "output_type": "execute_result"
    }
   ],
   "source": [
    "sorted(filtrado_por_compas [:5], reverse=False, key=lambda x:x[2])\n"
   ]
  },
  {
   "cell_type": "code",
   "execution_count": null,
   "id": "a6c89691",
   "metadata": {},
   "outputs": [],
   "source": []
  },
  {
   "cell_type": "code",
   "execution_count": 14,
   "id": "26be6f44",
   "metadata": {},
   "outputs": [],
   "source": [
    "def filtra_por_artista(rock, artist):\n",
    "    \n",
    "    filtradas = [(r.name, r.artist, r.release_date, r.popularity, r.danceability, r.energy, r.liveness, r.tempo, r.time_signature) for r in rock if r.artist==\"KISS\"]\n",
    "    return filtradas"
   ]
  },
  {
   "cell_type": "code",
   "execution_count": 15,
   "id": "5f4e8ddf",
   "metadata": {},
   "outputs": [
    {
     "name": "stdout",
     "output_type": "stream",
     "text": [
      "Canciones del artista\n",
      "Encontradas  20 canciones de KISS\n",
      "1 ('Rock And Roll All Nite', 'KISS', 1975, 75.0, 0.654, 0.929, 0.0539, 144.774, '4')\n",
      "2 (\"I Was Made For Lovin' You\", 'KISS', 1979, 79.0, 0.768, 0.852, 0.0723, 128.373, '4')\n",
      "3 ('Detroit Rock City', 'KISS', 1978, 69.0, 0.546, 0.9, 0.292, 90.591, '4')\n",
      "4 ('Beth', 'KISS', 1976, 61.0, 0.387, 0.238, 0.194, 115.354, '4')\n",
      "5 (\"God Gave Rock 'N' Roll To You II\", 'KISS', 1992, 55.0, 0.444, 0.735, 0.637, 145.244, '4')\n",
      "6 ('I Love It Loud', 'KISS', 1982, 58.0, 0.414, 0.897, 0.0809, 170.916, '4')\n",
      "7 ('Lick It Up', 'KISS', 1983, 63.0, 0.681, 0.773, 0.311, 120.276, '4')\n",
      "8 ('Sure Know Something', 'KISS', 1979, 52.0, 0.707, 0.732, 0.13, 115.338, '4')\n",
      "9 ('Crazy Crazy Nights', 'KISS', 1987, 60.0, 0.591, 0.87, 0.718, 121.682, '4')\n",
      "10 ('Cold Gin', 'KISS', 1974, 46.0, 0.512, 0.754, 0.0881, 117.588, '4')\n",
      "11 ('Deuce', 'KISS', 1974, 48.0, 0.44, 0.879, 0.294, 127.686, '4')\n",
      "12 ('Hotter Than Hell', 'KISS', 1974, 37.0, 0.426, 0.588, 0.0995, 106.026, '4')\n",
      "13 ('Mr. Speed', 'KISS', 1976, 34.0, 0.728, 0.919, 0.468, 132.636, '4')\n",
      "14 ('King Of The Night Time World', 'KISS', 1976, 37.0, 0.404, 0.958, 0.334, 137.771, '4')\n",
      "15 ('Got To Choose', 'KISS', 1974, 32.0, 0.449, 0.676, 0.235, 109.93, '4')\n",
      "16 (\"C'mon And Love Me\", 'KISS', 1975, 43.0, 0.712, 0.848, 0.155, 130.779, '4')\n",
      "17 ('Hard Luck Woman', 'KISS', 1976, 53.0, 0.668, 0.867, 0.22, 124.613, '4')\n",
      "18 ('God Of Thunder', 'KISS', 1976, 49.0, 0.414, 0.878, 0.456, 99.804, '4')\n",
      "19 ('Psycho Circus', 'KISS', 1998, 48.0, 0.556, 0.929, 0.237, 121.48, '4')\n",
      "20 ('Love Gun', 'KISS', 1977, 59.0, 0.409, 0.868, 0.276, 147.211, '4')\n"
     ]
    }
   ],
   "source": [
    "canciones_artistas = filtra_por_artista(ranking_canciones_rock, 'a')\n",
    "print(\"Canciones del artista\")\n",
    "print(\"Encontradas \" , len(canciones_artistas), \"canciones de KISS\")\n",
    "mostrar_numerado(canciones_artistas)"
   ]
  },
  {
   "cell_type": "code",
   "execution_count": 16,
   "id": "c2bc9609",
   "metadata": {},
   "outputs": [
    {
     "data": {
      "text/plain": [
       "[('Cold Gin', 'KISS', 1974, 46.0, 0.512, 0.754, 0.0881, 117.588, '4'),\n",
       " ('Sure Know Something', 'KISS', 1979, 52.0, 0.707, 0.732, 0.13, 115.338, '4'),\n",
       " (\"God Gave Rock 'N' Roll To You II\",\n",
       "  'KISS',\n",
       "  1992,\n",
       "  55.0,\n",
       "  0.444,\n",
       "  0.735,\n",
       "  0.637,\n",
       "  145.244,\n",
       "  '4'),\n",
       " ('I Love It Loud', 'KISS', 1982, 58.0, 0.414, 0.897, 0.0809, 170.916, '4'),\n",
       " ('Crazy Crazy Nights', 'KISS', 1987, 60.0, 0.591, 0.87, 0.718, 121.682, '4'),\n",
       " ('Beth', 'KISS', 1976, 61.0, 0.387, 0.238, 0.194, 115.354, '4'),\n",
       " ('Lick It Up', 'KISS', 1983, 63.0, 0.681, 0.773, 0.311, 120.276, '4'),\n",
       " ('Detroit Rock City', 'KISS', 1978, 69.0, 0.546, 0.9, 0.292, 90.591, '4'),\n",
       " ('Rock And Roll All Nite',\n",
       "  'KISS',\n",
       "  1975,\n",
       "  75.0,\n",
       "  0.654,\n",
       "  0.929,\n",
       "  0.0539,\n",
       "  144.774,\n",
       "  '4'),\n",
       " (\"I Was Made For Lovin' You\",\n",
       "  'KISS',\n",
       "  1979,\n",
       "  79.0,\n",
       "  0.768,\n",
       "  0.852,\n",
       "  0.0723,\n",
       "  128.373,\n",
       "  '4')]"
      ]
     },
     "execution_count": 16,
     "metadata": {},
     "output_type": "execute_result"
    }
   ],
   "source": [
    "lista = (sorted(canciones_artistas [:10], reverse=False, key=lambda x:x[3]))\n",
    "lista"
   ]
  },
  {
   "cell_type": "code",
   "execution_count": null,
   "id": "73bca419",
   "metadata": {},
   "outputs": [],
   "source": []
  },
  {
   "cell_type": "markdown",
   "id": "7abe09ce",
   "metadata": {},
   "source": [
    "Vamos a realizar un diagrama de puntos con la relación entre la energía y la bailabilidad de las canciones más populares."
   ]
  },
  {
   "cell_type": "code",
   "execution_count": 17,
   "id": "d83c4b6a",
   "metadata": {},
   "outputs": [],
   "source": [
    "def muestra_relacion_energia_bailabilidad(registros, umbral_popularidad=75):\n",
    "\n",
    "    populares = [r for r in registros if r.popularity>=umbral_popularidad]\n",
    "    energias = [r.energy for r in populares]\n",
    "    bailabilidad = [r.danceability for r in populares]\n",
    "    tempo = [r.time_signature for r in populares]\n",
    "    publico = [r.liveness for r in populares]\n",
    "    plt.scatter(energias, bailabilidad, color='purple')\n",
    "    plt.scatter(bailabilidad, publico, color='pink')\n",
    "    plt.show()"
   ]
  },
  {
   "cell_type": "code",
   "execution_count": 18,
   "id": "aeb48218",
   "metadata": {},
   "outputs": [
    {
     "data": {
      "image/png": "[encoded data removed]",
      "text/plain": [
       "<Figure size 432x288 with 1 Axes>"
      ]
     },
     "metadata": {
      "needs_background": "light"
     },
     "output_type": "display_data"
    }
   ],
   "source": [
    "muestra_relacion_energia_bailabilidad(ranking_canciones_rock)"
   ]
  },
  {
   "cell_type": "code",
   "execution_count": null,
   "id": "4863699b",
   "metadata": {},
   "outputs": [],
   "source": []
  },
  {
   "cell_type": "markdown",
   "id": "161ddcea",
   "metadata": {},
   "source": [
    "## DIAGRAMA DE TARTAS"
   ]
  },
  {
   "cell_type": "markdown",
   "id": "ad30b345",
   "metadata": {},
   "source": [
    "Realizamos un diagrama de tartas que nos muestre el número de canciones publicadas por año del grupo KISS."
   ]
  },
  {
   "cell_type": "code",
   "execution_count": 19,
   "id": "ba4c0f72",
   "metadata": {},
   "outputs": [
    {
     "name": "stdout",
     "output_type": "stream",
     "text": [
      "[1956, 1957, 1958, 1959, 1960, 1961, 1962, 1963, 1964, 1965, 1966, 1967, 1968, 1969, 1970, 1971, 1972, 1973, 1974, 1975, 1976, 1977, 1978, 1979, 1980, 1981, 1982, 1983, 1984, 1985, 1986, 1987, 1988, 1989, 1990, 1991, 1992, 1993, 1994, 1995, 1996, 1997, 1998, 1999, 2000, 2001, 2002, 2003, 2004, 2005, 2006, 2007, 2008, 2009, 2010, 2011, 2012, 2013, 2014, 2015, 2016, 2017, 2018, 2019, 2020]\n",
      "65\n"
     ]
    }
   ],
   "source": [
    "años = sorted(list({p.release_date for p in ranking_canciones_rock}))\n",
    "print(años)\n",
    "print(len(años))"
   ]
  },
  {
   "cell_type": "code",
   "execution_count": 29,
   "id": "6704ef2e",
   "metadata": {},
   "outputs": [],
   "source": [
    "decadas_50 = list(p for p in ranking_canciones_rock if p.release_date < 1960)\n",
    "decadas_60 = list(p for p in años if 1960<= p < 1970)\n",
    "decadas_70 = list(p for p in años if 1970<= p < 1980)\n",
    "decadas_80 = list(p for p in años if 1980<= p < 1990)\n",
    "decadas_90 = list(p for p in años if 1990<= p < 2000)\n",
    "decadas_00 = list(p for p in años if 2000<= p < 2010)\n",
    "decadas_10 = list(p for p in años if 2010<= p <= 2020)\n"
   ]
  },
  {
   "cell_type": "code",
   "execution_count": 30,
   "id": "4867d36c",
   "metadata": {},
   "outputs": [],
   "source": [
    "def contar_canciones(años):\n",
    "    canciones = dict()\n",
    "    for p in decadas_50:\n",
    "        clave=p.release_date\n",
    "        if clave in canciones:\n",
    "            canciones[clave] +=1\n",
    "        else:\n",
    "            canciones[clave] = 1\n",
    "    return canciones"
   ]
  },
  {
   "cell_type": "markdown",
   "id": "b5fe5549",
   "metadata": {},
   "source": [
    "Agrupamos las canciones por años"
   ]
  },
  {
   "cell_type": "code",
   "execution_count": 31,
   "id": "519167e9",
   "metadata": {},
   "outputs": [
    {
     "data": {
      "image/png": "[encoded data removed]",
      "text/plain": [
       "<Figure size 432x288 with 1 Axes>"
      ]
     },
     "metadata": {},
     "output_type": "display_data"
    }
   ],
   "source": [
    "def mostrar_distribucion_canciones(canciones):\n",
    "    ''' Muestra un diagrama de tarta con la distribución de uso de varias etiquetas\n",
    "    \n",
    "    ENTRADA: \n",
    "       - preguntas: lista de preguntas (puntuacion, titulo, año, etiqueta) -> [Pregunta(int, str, int, str)]\n",
    "       - etiquetas: lista de etiquetas que se inlcuirán en la gráfica\n",
    "    SALIDA EN PANTALLA: \n",
    "       - gráfica con un diagrama de tarta con un sector por cada año\n",
    "    \n",
    "    Se usarán las siguientes instrucciones para generar la gráfica:\n",
    "        plt.pie(tamaños, labels=etiquetas, autopct='%1.1f%%', shadow=True, startangle=90)\n",
    "        plt.legend()\n",
    "        plt.show()\n",
    "\n",
    "    Donde 'tamaños' es una lista, alineada con la lista de etiquetas, con el número de preguntas para\n",
    "    cada etiqueta.  \n",
    "    '''\n",
    "    años,frecuencias= tuple(zip(*contar_canciones(canciones).items()))\n",
    "    plt.pie(frecuencias, labels=años, autopct='%1.1f%%', shadow=True, startangle=90)\n",
    "    plt.legend()\n",
    "    plt.show()\n",
    "mostrar_distribucion_canciones(ranking_canciones_rock)\n"
   ]
  },
  {
   "cell_type": "code",
   "execution_count": 23,
   "id": "3defdf2b",
   "metadata": {},
   "outputs": [],
   "source": [
    "def test_mostrar_distribucion_canciones(canciones):\n",
    "    print(\"TEST de 'mostrar_distribucion_etiquetas'\\n\")\n"
   ]
  },
  {
   "cell_type": "code",
   "execution_count": null,
   "id": "3e288473",
   "metadata": {},
   "outputs": [],
   "source": []
  },
  {
   "cell_type": "code",
   "execution_count": null,
   "id": "b4a6b0e8",
   "metadata": {},
   "outputs": [],
   "source": []
  },
  {
   "cell_type": "code",
   "execution_count": null,
   "id": "9368d91e",
   "metadata": {},
   "outputs": [],
   "source": []
  }
 ],
 "metadata": {
  "kernelspec": {
   "display_name": "Python 3 (ipykernel)",
   "language": "python",
   "name": "python3"
  },
  "language_info": {
   "codemirror_mode": {
    "name": "ipython",
    "version": 3
   },
   "file_extension": ".py",
   "mimetype": "text/x-python",
   "name": "python",
   "nbconvert_exporter": "python",
   "pygments_lexer": "ipython3",
   "version": "3.9.12"
  },
  "vscode": {
   "interpreter": {
    "hash": "0d496188bf7dbcd7058556f85ca148782e6838a702038ecc1ef162a94d582c52"
   }
  }
 },
 "nbformat": 4,
 "nbformat_minor": 5
}
